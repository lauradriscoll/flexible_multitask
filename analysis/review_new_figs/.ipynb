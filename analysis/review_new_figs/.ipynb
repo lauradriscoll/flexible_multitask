{
 "cells": [
  {
   "cell_type": "code",
   "execution_count": 1,
   "metadata": {},
   "outputs": [],
   "source": [
    "from __future__ import absolute_import\n",
    "from __future__ import division\n",
    "from __future__ import print_function\n",
    "\n",
    "import os\n",
    "import sys\n",
    "import numpy as np\n",
    "import numpy.random as npr\n",
    "import matplotlib.pyplot as plt\n",
    "import tensorflow as tf\n",
    "\n",
    "import getpass\n",
    "ui = getpass.getuser()\n",
    "if ui == 'laura':\n",
    "    p = '/home/laura'\n",
    "elif ui == 'lauradriscoll':\n",
    "    p = '/Users/lauradriscoll/Documents'\n",
    "\n",
    "net = 'stepnet'\n",
    "PATH_YANGNET = os.path.join(p,'code/multitask-nets',net) \n",
    "\n",
    "sys.path.insert(0, PATH_YANGNET)\n",
    "from network import Model\n",
    "\n",
    "from scipy.stats import pearsonr\n",
    "import json\n",
    "from tools_lnd import rule_set_names, remove_ax_lines, remove_spines, remove_ticks"
   ]
  },
  {
   "cell_type": "code",
   "execution_count": 2,
   "metadata": {},
   "outputs": [],
   "source": [
    "figpath = os.path.join(p,'code','overleaf','multitask-nets','v5_figs','paper_figs','rev','no_of_clusters')\n",
    "if not os.path.exists(figpath):\n",
    "    os.makedirs(figpath)"
   ]
  },
  {
   "cell_type": "code",
   "execution_count": 282,
   "metadata": {},
   "outputs": [],
   "source": [
    "##################################################################\n",
    "#Find right model dir\n",
    "##################################################################\n",
    "import scipy.cluster.hierarchy as sch\n",
    "from scipy.cluster.hierarchy import fcluster\n",
    "method = 'ward'\n",
    "max_d = 3.5\n",
    "sparsity_threshold = .15\n",
    "ex_1 = 1\n",
    "ex_2 = 6\n",
    "ex_3 = 8\n",
    "al = .3\n",
    "seed_set = [str(0),str(1),str(2)]#[str(0),str(1)]\n",
    "\n",
    "rule_trains = ['fdgo', 'reactgo', 'delaygo', 'fdanti', 'reactanti', 'delayanti',\n",
    "          'delaydm1', 'delaydm2', 'contextdelaydm1', 'contextdelaydm2', 'multidelaydm',\n",
    "          'dmsgo', 'dmsnogo', 'dmcgo', 'dmcnogo']\n",
    "\n",
    "rule_trains_str = '_'.join(rule_trains)\n",
    "\n",
    "n_tasks = str(len(rule_trains))\n",
    "n_rnn = 128\n",
    "l2w = -6\n",
    "l2h = -6\n",
    "l1w = 0\n",
    "l1h = 0\n",
    "seed = 1\n",
    "lr = -6\n",
    "sigma_rec = 1/20\n",
    "sigma_x = 2/20\n",
    "pop_rule = 5\n",
    "ruleset = 'all'\n",
    "w_rec_coeff  = 8/10\n",
    "net_name = 'lr'+\"{:.1f}\".format(-lr)+'l2_w'+\"{:.1f}\".format(-l2w)+'_h'+\"{:.1f}\".format(-l2h)+'_'+rule_trains_str\n",
    "data_folder_all = 'data/rnn/multitask/stepnet/'\n",
    "\n",
    "# identify master network to compare other networks to. can be chosen randomly\n",
    "rnn_type_master = 'LeakyRNN'\n",
    "activation_master = 'softplus'\n",
    "w_init_master = 'diag'\n",
    "label_master = ' '.join([rnn_type_master,activation_master,w_init_master])\n",
    "seed_master = str(1)\n",
    "# m_master = os.path.join(p,data_folder_all,'final1',rnn_type_master,activation_master,w_init_master,\n",
    "#                         n_tasks+'_tasks',n_rnn+'_n_rnn',net_name,seed_master)\n",
    "\n",
    "net_name = 'lr'+\"{:.1f}\".format(-lr)+'l2_w'+\"{:.1f}\".format(-l2w)+'_h'+\"{:.1f}\".format(-l2h)\n",
    "\n",
    "net_name2 = '_sig_rec'+str(sigma_rec)+'_sig_x'+str(sigma_x)+'_w_rec_coeff'+\"{:.1f}\".format(w_rec_coeff)+'_'+rule_trains_str\n",
    "\n",
    "m_master = os.path.join(p,'data','rnn','multitask',net,'final1',ruleset,rnn_type_master,activation_master,\n",
    "    w_init_master,str(len(rule_trains))+'_tasks',str(n_rnn)+'_n_rnn',net_name+net_name2,str(seed))\n",
    "\n",
    "# lesion_folder = 'lesion_fps_hierarchical_'+method+'_'+'distance'+'_max_d'+str(max_d)\n",
    "method = 'ward'\n",
    "criterion = 'distance'\n",
    "cel_max_d = '3.5'\n",
    "\n",
    "lesion_folder = 'lesion_fps_hierarchical_ward_maxclust_opt_clust'\n",
    "# lesion_folder = 'lesion_fps_hierarchical_ward_distance_opt_clust'\n",
    "# lesion_folder = 'lesion_fps_hierarchical_'+method+'_'+criterion+'_max_d'+str(cel_max_d)\n",
    "save_dir = os.path.join(m_master,lesion_folder)\n",
    "cluster_var = np.load(os.path.join(save_dir,'cluster_var.npz'))\n",
    "feature_names_master = cluster_var['tick_names']\n",
    "\n",
    "# set of networks to compare\n",
    "rnn_type_set = ['LeakyRNN','LeakyGRU']\n",
    "activation_set = ['retanh','tanh','softplus']\n",
    "w_init_set = ['diag','randgauss']\n",
    "data_folder_set = ['final1','untrained']\n",
    "color_set = {}\n",
    "color_set['final1'] = 'k'\n",
    "color_set['untrained'] = 'dodgerblue'\n",
    "color_set['no_noise'] = 'orangered'\n",
    "data_folder = 'final1'\n",
    "l2w = -6\n",
    "l2h = -6\n",
    "\n",
    "task_cluster_number = np.empty((len(rnn_type_set),len(activation_set),len(w_init_set),len(seed_set)),dtype=float)\n",
    "unit_cluster_number = np.empty((len(rnn_type_set),len(activation_set),len(w_init_set),len(seed_set)),dtype=float)\n",
    "\n",
    "for rnn_type_i in range(len(rnn_type_set)):\n",
    "    \n",
    "    rnn_type = rnn_type_set[rnn_type_i]\n",
    "    \n",
    "    for activation_i in range(len(activation_set)):\n",
    "        \n",
    "        activation = activation_set[activation_i]\n",
    "        \n",
    "        for w_init_i in range(len(w_init_set)):\n",
    "            \n",
    "            w_init = w_init_set[w_init_i]\n",
    "\n",
    "            for seed in seed_set:\n",
    "\n",
    "                if (rnn_type == 'LeakyRNN') & (activation == 'tanh') & (data_folder == 'final1'):\n",
    "                    w_rec_coeff  = 1\n",
    "                    lr = -8\n",
    "                else:\n",
    "                    w_rec_coeff  = 8/10\n",
    "                    lr = -6\n",
    "\n",
    "                net_name = 'lr'+\"{:.1f}\".format(-lr)+'l2_w'+\"{:.1f}\".format(-l2w)+'_h'+\"{:.1f}\".format(-l2h)\n",
    "\n",
    "                net_name2 = '_sig_rec'+str(sigma_rec)+'_sig_x'+str(sigma_x)+'_w_rec_coeff'+\"{:.1f}\".format(w_rec_coeff)+'_'+rule_trains_str\n",
    "\n",
    "                m = os.path.join(p,'data','rnn','multitask',net,data_folder,ruleset,\n",
    "                                        rnn_type,activation,w_init,str(len(rule_trains))+'_tasks',\n",
    "                                        str(n_rnn)+'_n_rnn',net_name+net_name2,str(seed))\n",
    "\n",
    "                #load atlas data\n",
    "                save_dir = os.path.join(m,lesion_folder)\n",
    "                cluster_var = np.load(os.path.join(save_dir,'cluster_var.npz'))\n",
    "                D = cluster_var['D'].T\n",
    "                feature_names_original = [cluster_var['tick_names'][s] for s in \n",
    "                                          range(len(cluster_var['tick_names']))]\n",
    "\n",
    "                feat_order = [feature_names_original.index(s) for i,s in enumerate(feature_names_master)]\n",
    "                X = D[:,feat_order]\n",
    "                Y = sch.linkage(X.T, method=method)\n",
    "                clusters_top = fcluster(Y, thresh, criterion=criterion)\n",
    "\n",
    "                unit_cluster_number[rnn_type_i,activation_i,w_init_i,int(seed)] = max(cluster_var['clusters'])\n",
    "                task_cluster_number[rnn_type_i,activation_i,w_init_i,int(seed)] = max(clusters_top)\n",
    "                \n",
    "                    "
   ]
  },
  {
   "cell_type": "code",
   "execution_count": 283,
   "metadata": {},
   "outputs": [
    {
     "data": {
      "text/plain": [
       "'/Users/lauradriscoll/Documents/data/rnn/multitask/stepnet/final1/all/LeakyGRU/softplus/randgauss/15_tasks/128_n_rnn/lr6.0l2_w6.0_h6.0_sig_rec0.05_sig_x0.1_w_rec_coeff0.8_fdgo_reactgo_delaygo_fdanti_reactanti_delayanti_delaydm1_delaydm2_contextdelaydm1_contextdelaydm2_multidelaydm_dmsgo_dmsnogo_dmcgo_dmcnogo/2'"
      ]
     },
     "execution_count": 283,
     "metadata": {},
     "output_type": "execute_result"
    }
   ],
   "source": [
    "m"
   ]
  },
  {
   "cell_type": "code",
   "execution_count": 272,
   "metadata": {},
   "outputs": [],
   "source": [
    "max_clust_unit = max(unit_cluster_number.flatten())\n",
    "max_clust_task_period = max(task_cluster_number.flatten())"
   ]
  },
  {
   "cell_type": "code",
   "execution_count": 273,
   "metadata": {},
   "outputs": [
    {
     "data": {
      "text/plain": [
       "Text(0.5,0,'Number of clusters')"
      ]
     },
     "execution_count": 273,
     "metadata": {},
     "output_type": "execute_result"
    },
    {
     "data": {
      "image/png": "[encoded data removed]",
      "text/plain": [
       "<Figure size 288x360 with 2 Axes>"
      ]
     },
     "metadata": {
      "needs_background": "light"
     },
     "output_type": "display_data"
    }
   ],
   "source": [
    "num_var = len(activation_set)\n",
    "fig = plt.figure(figsize=(4,5))         \n",
    "    \n",
    "ax = plt.subplot(2,1,1)\n",
    "plt.hist(unit_cluster_number.flatten(),alpha = .5, bins = 12, range = [0,max_clust_unit])\n",
    "plt.text(0,.5*ax.get_ylim()[1],'unit clusters')\n",
    "\n",
    "ax.set_yticks([])\n",
    "ax.spines['top'].set_visible(False)\n",
    "ax.spines['right'].set_visible(False)\n",
    "ax.spines['left'].set_visible(False)\n",
    "ax.set_xlim([0,max_clust_unit])\n",
    "ax.tick_params(axis='x',label1On=False)\n",
    "\n",
    "ax = plt.subplot(2,1,2)\n",
    "plt.hist(task_cluster_number.flatten(),alpha = .5, bins = 12, range = [0,max_clust_unit])\n",
    "plt.text(0,.5*ax.get_ylim()[1],'task period clusters')\n",
    "\n",
    "ax.set_yticks([])\n",
    "ax.spines['top'].set_visible(False)\n",
    "ax.spines['right'].set_visible(False)\n",
    "ax.spines['left'].set_visible(False)\n",
    "ax.set_xlim([0,max_clust_unit])\n",
    "ax.set_xlabel('Number of clusters')\n"
   ]
  },
  {
   "cell_type": "code",
   "execution_count": 274,
   "metadata": {},
   "outputs": [
    {
     "data": {
      "image/png": "[encoded data removed]",
      "text/plain": [
       "<Figure size 288x360 with 3 Axes>"
      ]
     },
     "metadata": {
      "needs_background": "light"
     },
     "output_type": "display_data"
    }
   ],
   "source": [
    "num_var = len(activation_set)\n",
    "fig = plt.figure(figsize=(4,5))         \n",
    "    \n",
    "for act_fxn in range(num_var):\n",
    "    ax = plt.subplot(num_var,1,act_fxn+1)\n",
    "    plt.hist(unit_cluster_number[:,act_fxn,:,:].flatten(),alpha = .5, bins = 12, range = [0,max_clust_unit])\n",
    "    \n",
    "    activation = activation_set[act_fxn]\n",
    "    plt.text(0,.5*ax.get_ylim()[1],activation)\n",
    "    \n",
    "    ax.set_yticks([])\n",
    "    \n",
    "    ax.spines['top'].set_visible(False)\n",
    "    ax.spines['right'].set_visible(False)\n",
    "    ax.spines['left'].set_visible(False)\n",
    "    ax.set_xlim([0,max_clust_unit])\n",
    "    \n",
    "    if act_fxn<num_var-1:\n",
    "        ax.tick_params(axis='x',label1On=False)\n",
    "    else:\n",
    "        ax.set_xlabel('Number of clusters')\n",
    "       \n",
    "    if act_fxn==0:\n",
    "        plt.title('Activation Function')"
   ]
  },
  {
   "cell_type": "code",
   "execution_count": 275,
   "metadata": {},
   "outputs": [
    {
     "data": {
      "image/png": "[encoded data removed]",
      "text/plain": [
       "<Figure size 288x360 with 2 Axes>"
      ]
     },
     "metadata": {
      "needs_background": "light"
     },
     "output_type": "display_data"
    }
   ],
   "source": [
    "num_var = len(rnn_type_set)\n",
    "fig = plt.figure(figsize=(4,5))   \n",
    "                \n",
    "    \n",
    "for rnn_type in range(num_var):\n",
    "    ax = plt.subplot(num_var,1,rnn_type+1)\n",
    "    plt.hist(unit_cluster_number[rnn_type,:,:,:].flatten(),alpha = .5, bins = 12, range = [0,max_clust_unit])\n",
    "    \n",
    "    rnn_type_name = rnn_type_set[rnn_type]\n",
    "    plt.text(0,.5*ax.get_ylim()[1],rnn_type_name)\n",
    "    \n",
    "    ax.set_yticks([])\n",
    "    \n",
    "    ax.spines['top'].set_visible(False)\n",
    "    ax.spines['right'].set_visible(False)\n",
    "    ax.spines['left'].set_visible(False)\n",
    "    ax.set_xlim([0,max_clust_unit])\n",
    "    \n",
    "    if rnn_type<num_var-1:\n",
    "        ax.tick_params(axis='x',label1On=False)\n",
    "    else:\n",
    "        ax.set_xlabel('Number of clusters')\n",
    "       \n",
    "    if rnn_type==0:\n",
    "        plt.title('Network type')"
   ]
  },
  {
   "cell_type": "code",
   "execution_count": 276,
   "metadata": {},
   "outputs": [
    {
     "data": {
      "image/png": "[encoded data removed]",
      "text/plain": [
       "<Figure size 288x360 with 2 Axes>"
      ]
     },
     "metadata": {
      "needs_background": "light"
     },
     "output_type": "display_data"
    }
   ],
   "source": [
    "num_var = len(w_init_set)\n",
    "fig = plt.figure(figsize=(4,5))   \n",
    "                \n",
    "    \n",
    "for init_type in range(num_var):\n",
    "    ax = plt.subplot(num_var,1,init_type+1)\n",
    "    plt.hist(unit_cluster_number[:,:,init_type,:].flatten(),alpha = .5, bins = 12, range = [0,max_clust_unit])\n",
    "    \n",
    "    init_name = w_init_set[init_type]\n",
    "    plt.text(0,.5*ax.get_ylim()[1],init_name)\n",
    "    \n",
    "    ax.set_yticks([])\n",
    "    \n",
    "    ax.spines['top'].set_visible(False)\n",
    "    ax.spines['right'].set_visible(False)\n",
    "    ax.spines['left'].set_visible(False)\n",
    "    ax.set_xlim([0,max_clust_unit])\n",
    "    \n",
    "    if rnn_type<num_var-1:\n",
    "        ax.tick_params(axis='x',label1On=False)\n",
    "    else:\n",
    "        ax.set_xlabel('Number of clusters')\n",
    "       \n",
    "    if init_type==0:\n",
    "        plt.title('Initialization')"
   ]
  },
  {
   "cell_type": "code",
   "execution_count": 280,
   "metadata": {},
   "outputs": [
    {
     "data": {
      "text/plain": [
       "(1, 2, 1, 2)"
      ]
     },
     "execution_count": 280,
     "metadata": {},
     "output_type": "execute_result"
    },
    {
     "data": {
      "image/png": "[encoded data removed]",
      "text/plain": [
       "<Figure size 648x504 with 2 Axes>"
      ]
     },
     "metadata": {
      "needs_background": "light"
     },
     "output_type": "display_data"
    }
   ],
   "source": [
    "x = unit_cluster_number\n",
    "n_networks = len(x.flatten())\n",
    "\n",
    "fig = plt.figure(figsize=(9,7)) \n",
    "ax = plt.subplot(2,1,1)\n",
    "plt.plot(x.flatten()[np.argsort(-x.flatten())])\n",
    "ax.set_ylabel('No. of clusters')\n",
    "\n",
    "ax.spines['top'].set_visible(False)\n",
    "ax.spines['right'].set_visible(False)\n",
    "ax.set_ylim([0,max_clust_unit+1])\n",
    "ax.set_xlim([-.5,n_networks])\n",
    "\n",
    "ax = plt.subplot(2,1,2)\n",
    "XX,YY,ZZ,AA = np.meshgrid(np.arange(x.shape[3]),np.arange(x.shape[2]),np.arange(x.shape[1]),np.arange(x.shape[0]))\n",
    "table = np.vstack((x.ravel(),XX.ravel(),ZZ.ravel(),YY.ravel(),AA.ravel())).T\n",
    "plt.imshow(table[np.argsort(-x.flatten()),:][:,2:].T)\n",
    "\n",
    "ax.set_yticks((0,1,2))\n",
    "ax.set_yticklabels(['Activation fxn','Network type','Initialization'])\n",
    "ax.set_xlim([-.5,n_networks-.5])\n",
    "ax.set_xlabel('Networks')\n",
    "\n",
    "rnn_type_i,activation_i,w_init_i,int(seed)"
   ]
  },
  {
   "cell_type": "code",
   "execution_count": null,
   "metadata": {},
   "outputs": [],
   "source": []
  },
  {
   "cell_type": "code",
   "execution_count": null,
   "metadata": {},
   "outputs": [],
   "source": []
  }
 ],
 "metadata": {
  "kernelspec": {
   "display_name": "Python 2",
   "language": "python",
   "name": "python2"
  },
  "language_info": {
   "codemirror_mode": {
    "name": "ipython",
    "version": 2
   },
   "file_extension": ".py",
   "mimetype": "text/x-python",
   "name": "python",
   "nbconvert_exporter": "python",
   "pygments_lexer": "ipython2",
   "version": "2.7.18"
  }
 },
 "nbformat": 4,
 "nbformat_minor": 2
}
