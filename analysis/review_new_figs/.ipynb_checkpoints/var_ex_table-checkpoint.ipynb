{
 "cells": [
  {
   "cell_type": "code",
   "execution_count": 1,
   "metadata": {},
   "outputs": [],
   "source": [
    "from __future__ import absolute_import\n",
    "from __future__ import division\n",
    "from __future__ import print_function\n",
    "\n",
    "import os\n",
    "import numpy as np\n",
    "import pickle\n",
    "import matplotlib.pyplot as plt\n",
    "import sys\n",
    "import json\n",
    "from numpy import linalg as LA\n",
    "import tensorflow as tf\n",
    "from sklearn.decomposition import PCA\n",
    "\n",
    "import getpass\n",
    "ui = getpass.getuser()\n",
    "if ui == 'laura':\n",
    "    p = '/home/laura'\n",
    "elif ui == 'lauradriscoll':\n",
    "    p = '/Users/lauradriscoll/Documents'\n",
    "\n",
    "net = 'stepnet'\n",
    "PATH_YANGNET = os.path.join(p,'code/multitask-nets',net) \n",
    "\n",
    "sys.path.insert(0, PATH_YANGNET)\n",
    "from task import generate_trials, rule_name, rule_index_map, rules_dict\n",
    "from network import Model, get_perf, FixedPoint_Model\n",
    "import tools\n",
    "from analysis import clustering, standard_analysis, variance\n",
    "import numpy.random as npr\n",
    "from tools_lnd import make_h_all, PC_axes, get_T_inds, make_dendro\n",
    "from collections import OrderedDict"
   ]
  },
  {
   "cell_type": "code",
   "execution_count": 202,
   "metadata": {},
   "outputs": [],
   "source": [
    "m = '/Users/lauradriscoll/Documents/data/rnn/multitask/stepnet/final/mem_motifs_small/LeakyRNN/softplus/diag/2_tasks/256_n_rnn/lr7.0l2_w6.0_h6.0_delaygo_delayanti/0/'"
   ]
  },
  {
   "cell_type": "code",
   "execution_count": 203,
   "metadata": {},
   "outputs": [
    {
     "name": "stdout",
     "output_type": "stream",
     "text": [
      "Overwrite sigma_rec with 0.000\n",
      "INFO:tensorflow:Restoring parameters from /Users/lauradriscoll/Documents/data/rnn/multitask/stepnet/final/mem_motifs_small/LeakyRNN/softplus/diag/2_tasks/256_n_rnn/lr7.0l2_w6.0_h6.0_delaygo_delayanti/0/model.ckpt\n",
      "Model restored from file: /Users/lauradriscoll/Documents/data/rnn/multitask/stepnet/final/mem_motifs_small/LeakyRNN/softplus/diag/2_tasks/256_n_rnn/lr7.0l2_w6.0_h6.0_delaygo_delayanti/0/model.ckpt\n"
     ]
    }
   ],
   "source": []
  },
  {
   "cell_type": "code",
   "execution_count": 237,
   "metadata": {},
   "outputs": [],
   "source": [
    "from tools_lnd import take_names\n",
    "\n",
    "def var_x_epoch(m,n_components = 100, timing_sort=True):\n",
    "\n",
    "    h_all_byepoch, h_all_byrule, rules, h_all_timing =  make_h_all(m,mode = 'test',rules = [])\n",
    "    \n",
    "    keys = h_all_byepoch.keys()\n",
    "    var_test = np.empty((len(keys),len(keys),n_components))\n",
    "    var_test_sort = np.empty((len(keys),len(keys),n_components))\n",
    "\n",
    "    for key_i in range(len(keys)):\n",
    "\n",
    "        key = keys[key_i]\n",
    "\n",
    "        h_tf = h_all_byepoch[key]\n",
    "        x = np.transpose(h_tf,(2,1,0)) #h_tf[:,range(1,n_trials),:],(2,1,0))\n",
    "        X = np.reshape(x,(x.shape[0],-1))\n",
    "\n",
    "        pca = PCA(n_components = n_components)\n",
    "        _ = pca.fit_transform(X.T)\n",
    "\n",
    "        for key_test_i in range(len(keys)):\n",
    "\n",
    "            key_test = keys[key_test_i]\n",
    "\n",
    "            h_test = h_all_byepoch[key_test]\n",
    "            x = np.transpose(h_test,(2,1,0)) #h_tf[:,range(1,n_trials),:],(2,1,0))\n",
    "            X_test = np.reshape(x,(x.shape[0],-1))\n",
    "\n",
    "            var = np.var(np.dot(pca.components_,X_test),axis = 1)\n",
    "            var_test[key_i,key_test_i,:] = var/np.sum(var)\n",
    "            \n",
    "    if timing_sort==True:\n",
    "        epoch_order = np.argsort(h_all_timing)#[2,1,3,0,6,5,7,4]\n",
    "    else:\n",
    "        epoch_order = range(len(h_all_timing))\n",
    "\n",
    "    for e1 in range(len(epoch_order)):\n",
    "        for e2 in range(len(epoch_order)):\n",
    "            var_test_sort[e1,e2,:] = var_test[epoch_order[e1],epoch_order[e2],:]\n",
    "                \n",
    "    tick_labels = []\n",
    "    for e in epoch_order:\n",
    "        epoch_name, rule_name, _, _ = take_names(keys[e][1],keys[e][0])\n",
    "        key_str = rule_name[6:]+ ' ' + epoch_name\n",
    "\n",
    "        tick_labels.append(key_str)\n",
    "        \n",
    "    return var_test_sort, tick_labels"
   ]
  },
  {
   "cell_type": "code",
   "execution_count": 240,
   "metadata": {},
   "outputs": [
    {
     "name": "stdout",
     "output_type": "stream",
     "text": [
      "Overwrite sigma_rec with 0.000\n",
      "INFO:tensorflow:Restoring parameters from /Users/lauradriscoll/Documents/data/rnn/multitask/stepnet/final/mem_motifs_small/LeakyRNN/softplus/diag/2_tasks/256_n_rnn/lr7.0l2_w6.0_h6.0_delaygo_delayanti/0/model.ckpt\n",
      "Model restored from file: /Users/lauradriscoll/Documents/data/rnn/multitask/stepnet/final/mem_motifs_small/LeakyRNN/softplus/diag/2_tasks/256_n_rnn/lr7.0l2_w6.0_h6.0_delaygo_delayanti/0/model.ckpt\n"
     ]
    }
   ],
   "source": [
    "var_test_sort, tick_labels = var_x_epoch(m, n_components = 100, timing_sort=True)"
   ]
  },
  {
   "cell_type": "code",
   "execution_count": 280,
   "metadata": {},
   "outputs": [
    {
     "name": "stdout",
     "output_type": "stream",
     "text": [
      "Overwrite sigma_rec with 0.000\n",
      "INFO:tensorflow:Restoring parameters from /Users/lauradriscoll/Documents/data/rnn/multitask/stepnet/final/mem_motifs_small/LeakyRNN/softplus/diag/2_tasks/256_n_rnn/lr7.0l2_w6.0_h6.0_delaygo_delayanti/0/model.ckpt\n",
      "Model restored from file: /Users/lauradriscoll/Documents/data/rnn/multitask/stepnet/final/mem_motifs_small/LeakyRNN/softplus/diag/2_tasks/256_n_rnn/lr7.0l2_w6.0_h6.0_delaygo_delayanti/0/model.ckpt\n"
     ]
    },
    {
     "data": {
      "image/png": "[encoded data removed]",
      "text/plain": [
       "<Figure size 324x180 with 2 Axes>"
      ]
     },
     "metadata": {},
     "output_type": "display_data"
    }
   ],
   "source": [
    "var_test_sort, tick_labels = var_x_epoch(m, n_components = 100, timing_sort=True)\n",
    "\n",
    "n_dims = 5\n",
    "fig = plt.figure(figsize=(4.5,2.5),tight_layout=True,facecolor='white')\n",
    "ax = plt.subplot(111)\n",
    "\n",
    "plt.imshow(np.sum(var_test_sort[:,:,:n_dims],axis = 2))\n",
    "\n",
    "# ax.set_xlabel('Train', fontsize = 16)\n",
    "# ax.set_ylabel('Test', fontsize = 16)\n",
    "\n",
    "ax.set_xticks([])\n",
    "# ax.set_xticklabels(tick_labels,rotation = 45,ha = 'right', fontsize = 14)\n",
    "plt.title('Fraction var. in first '+ str(n_dims) + ' dimensions', fontsize = 16)\n",
    "c = plt.colorbar()\n",
    "c.outline.set_visible(False)\n",
    "\n",
    "# c.spines['top'].set_visible(False)\n",
    "# c.spines['bottom'].set_visible(False)\n",
    "# c.spines['left'].set_visible(False)\n",
    "\n",
    "plt.clim(0, 1) \n",
    "ax.set_yticks(range(len(keys)))\n",
    "ax.set_yticklabels(tick_labels, fontsize = 14)\n",
    "\n",
    "\n",
    "ax.spines['top'].set_visible(False)\n",
    "ax.spines['bottom'].set_visible(False)\n",
    "ax.spines['left'].set_visible(False)\n",
    "\n",
    "\n",
    "\n",
    "plt.show()"
   ]
  },
  {
   "cell_type": "code",
   "execution_count": null,
   "metadata": {},
   "outputs": [],
   "source": []
  }
 ],
 "metadata": {
  "kernelspec": {
   "display_name": "Python 2",
   "language": "python",
   "name": "python2"
  },
  "language_info": {
   "codemirror_mode": {
    "name": "ipython",
    "version": 2
   },
   "file_extension": ".py",
   "mimetype": "text/x-python",
   "name": "python",
   "nbconvert_exporter": "python",
   "pygments_lexer": "ipython2",
   "version": "2.7.18"
  }
 },
 "nbformat": 4,
 "nbformat_minor": 2
}
