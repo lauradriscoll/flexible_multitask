{
 "cells": [
  {
   "cell_type": "code",
   "execution_count": 59,
   "metadata": {},
   "outputs": [],
   "source": [
    "from __future__ import absolute_import\n",
    "from __future__ import division\n",
    "from __future__ import print_function\n",
    "\n",
    "import os\n",
    "import sys\n",
    "import json\n",
    "import numpy as np\n",
    "import numpy.random as npr\n",
    "import matplotlib.pyplot as plt\n",
    "import tensorflow.compat.v1 as tf\n",
    "tf.disable_v2_behavior()\n",
    "\n",
    "from pathlib import Path\n",
    "import dotenv\n",
    "import json\n",
    "dotenv.load_dotenv()\n",
    "p_code = Path(os.environ.get(\"HOME_DIR\"))\n",
    "p_data = Path(os.environ.get(\"DATA_DIR\"))\n",
    "\n",
    "net = 'stepnet'\n",
    "PATH_YANGNET = os.path.join(p_code,net) \n",
    "sys.path.insert(0, PATH_YANGNET)\n",
    "\n",
    "from tools_lnd import find_opt_clust_num"
   ]
  },
  {
   "cell_type": "code",
   "execution_count": 66,
   "metadata": {},
   "outputs": [],
   "source": [
    "# ##################################################################\n",
    "# #fig save path\n",
    "# ##################################################################\n",
    "fig_name = 'suppfig4'\n",
    "figpath = os.path.join(p_code,'figs',fig_name)\n",
    "if not os.path.exists(figpath):\n",
    "    os.makedirs(figpath)"
   ]
  },
  {
   "cell_type": "code",
   "execution_count": 67,
   "metadata": {},
   "outputs": [],
   "source": [
    "# ##################################################################\n",
    "# #Find right model dir\n",
    "# ##################################################################\n",
    "fig_name = 'suppfig4'\n",
    "data_m = os.path.join(p_data,fig_name)"
   ]
  },
  {
   "cell_type": "code",
   "execution_count": 68,
   "metadata": {},
   "outputs": [],
   "source": [
    "def find_nets(rnn_type,activation,w_init,data_folder,n_rnn,seed,file_end = 'hp.json'):\n",
    "    \n",
    "    if data_folder=='no_noise':\n",
    "        l2w = -0\n",
    "        l2h = -0\n",
    "    else:\n",
    "        l2w = -6\n",
    "        l2h = -6\n",
    "    \n",
    "    if data_folder=='untrained':\n",
    "        w_rec_coeff  = 1\n",
    "        lr = -8\n",
    "        \n",
    "    elif (rnn_type == 'LeakyRNN') & (activation[-4:-1] == 'tan'):\n",
    "        w_rec_coeff  = 1\n",
    "        lr = -8\n",
    "    else:\n",
    "        \n",
    "        w_rec_coeff  = 8/10\n",
    "        lr = -6\n",
    "        \n",
    "    net_name = 'lr'+\"{:.1f}\".format(-lr)+'l2_w'+\"{:.1f}\".format(-l2w)+'_h'+\"{:.1f}\".format(-l2h) \n",
    "\n",
    "    m = os.path.join(p,'sherlock','multitask-nets',net,'data',data_folder,rnn_type,activation,w_init,\n",
    "            str(len(rule_trains))+'_tasks',str(n_rnn)+'_n_rnn',net_name+'_'+rule_trains_str,str(seed))\n",
    "\n",
    "    fname = os.path.join(m, file_end)\n",
    "    if os.path.isfile(fname)==False:\n",
    "        if m == '/Users/lauradriscoll/Documents/sherlock/multitask-nets/stepnet/data/all/LeakyRNN/softplus/diag/15_tasks/256_n_rnn/lr6.0l2_w6.0_h6.0_fdgo_reactgo_delaygo_fdanti_reactanti_delayanti_delaydm1_delaydm2_contextdelaydm1_contextdelaydm2_multidelaydm_dmsgo_dmsnogo_dmcgo_dmcnogo/1':\n",
    "            m_alt = '/Users/lauradriscoll/Documents/sherlock/multitask-nets/stepnet/data/all/LeakyRNN/softplus/diag/15_tasks/256_n_rnn/lr7.0l2_w6.0_h6.0_fdgo_reactgo_delaygo_fdanti_reactanti_delayanti_delaydm1_delaydm2_contextdelaydm1_contextdelaydm2_multidelaydm_dmsgo_dmsnogo_dmcgo_dmcnogo/4'\n",
    "        elif m == '/Users/lauradriscoll/Documents/sherlock/multitask-nets/stepnet/data/all/LeakyRNN/softplus/randgauss/15_tasks/512_n_rnn/lr6.0l2_w6.0_h6.0_fdgo_reactgo_delaygo_fdanti_reactanti_delayanti_delaydm1_delaydm2_contextdelaydm1_contextdelaydm2_multidelaydm_dmsgo_dmsnogo_dmcgo_dmcnogo/2': \n",
    "            m_alt = '/Users/lauradriscoll/Documents/sherlock/multitask-nets/stepnet/data/all/LeakyRNN/softplus/randgauss/15_tasks/512_n_rnn/lr7.0l2_w6.0_h6.0_fdgo_reactgo_delaygo_fdanti_reactanti_delayanti_delaydm1_delaydm2_contextdelaydm1_contextdelaydm2_multidelaydm_dmsgo_dmsnogo_dmcgo_dmcnogo/4'\n",
    "        else:\n",
    "            m_alt= m\n",
    "            \n",
    "        fname = os.path.join(m_alt, file_end)\n",
    "        if os.path.isfile(fname)==False:\n",
    "            print('NEED TO TRAIN NETWORK ' + fname)\n",
    "            \n",
    "    return fname"
   ]
  },
  {
   "cell_type": "code",
   "execution_count": 69,
   "metadata": {},
   "outputs": [],
   "source": [
    "m_master = '_'.join((rnn_type_master,activation_master,w_init_master,str(len(rule_trains))+'_tasks',str(n_rnn)+'_n_rnn',net_name+net_name2,str(seed)))"
   ]
  },
  {
   "cell_type": "code",
   "execution_count": 70,
   "metadata": {},
   "outputs": [
    {
     "data": {
      "text/plain": [
       "'LeakyRNN_softplus_diag_15_tasks_128_n_rnn_lr6.0l2_w6.0_h6.0_sig_rec0.05_sig_x0.1_w_rec_coeff0.8_fdgo_reactgo_delaygo_fdanti_reactanti_delayanti_delaydm1_delaydm2_contextdelaydm1_contextdelaydm2_multidelaydm_dmsgo_dmsnogo_dmcgo_dmcnogo_1'"
      ]
     },
     "execution_count": 70,
     "metadata": {},
     "output_type": "execute_result"
    }
   ],
   "source": [
    "m_master"
   ]
  },
  {
   "cell_type": "code",
   "execution_count": 71,
   "metadata": {},
   "outputs": [
    {
     "name": "stdout",
     "output_type": "stream",
     "text": [
      "NEED TO TRAIN NETWORK /Users/lauradriscoll/Documents/sherlock/multitask-nets/stepnet/data/all/LeakyGRU/softplus/diag/15_tasks/128_n_rnn/lr6.0l2_w6.0_h6.0_fdgo_reactgo_delaygo_fdanti_reactanti_delayanti_delaydm1_delaydm2_contextdelaydm1_contextdelaydm2_multidelaydm_dmsgo_dmsnogo_dmcgo_dmcnogo/0/hp.json\n"
     ]
    },
    {
     "ename": "FileNotFoundError",
     "evalue": "[Errno 2] No such file or directory: '/Users/lauradriscoll/Documents/sherlock/multitask-nets/stepnet/data/all/LeakyGRU/softplus/diag/15_tasks/128_n_rnn/lr6.0l2_w6.0_h6.0_fdgo_reactgo_delaygo_fdanti_reactanti_delayanti_delaydm1_delaydm2_contextdelaydm1_contextdelaydm2_multidelaydm_dmsgo_dmsnogo_dmcgo_dmcnogo/0/log.json'",
     "output_type": "error",
     "traceback": [
      "\u001b[0;31m---------------------------------------------------------------------------\u001b[0m",
      "\u001b[0;31mFileNotFoundError\u001b[0m                         Traceback (most recent call last)",
      "Cell \u001b[0;32mIn[71], line 91\u001b[0m\n\u001b[1;32m     88\u001b[0m \u001b[38;5;66;03m#load atlas data\u001b[39;00m\n\u001b[1;32m     89\u001b[0m save_dir \u001b[38;5;241m=\u001b[39m os\u001b[38;5;241m.\u001b[39mpath\u001b[38;5;241m.\u001b[39mjoin(m,lesion_folder)\n\u001b[0;32m---> 91\u001b[0m \u001b[38;5;28;01mwith\u001b[39;00m \u001b[38;5;28;43mopen\u001b[39;49m\u001b[43m(\u001b[49m\u001b[43mos\u001b[49m\u001b[38;5;241;43m.\u001b[39;49m\u001b[43mpath\u001b[49m\u001b[38;5;241;43m.\u001b[39;49m\u001b[43mjoin\u001b[49m\u001b[43m(\u001b[49m\u001b[43mm\u001b[49m\u001b[43m,\u001b[49m\u001b[38;5;124;43m'\u001b[39;49m\u001b[38;5;124;43mlog.json\u001b[39;49m\u001b[38;5;124;43m'\u001b[39;49m\u001b[43m)\u001b[49m\u001b[43m,\u001b[49m\u001b[43m \u001b[49m\u001b[38;5;124;43m'\u001b[39;49m\u001b[38;5;124;43mr\u001b[39;49m\u001b[38;5;124;43m'\u001b[39;49m\u001b[43m)\u001b[49m \u001b[38;5;28;01mas\u001b[39;00m f:\n\u001b[1;32m     92\u001b[0m     log_post \u001b[38;5;241m=\u001b[39m json\u001b[38;5;241m.\u001b[39mload(f)\n\u001b[1;32m     95\u001b[0m perfs \u001b[38;5;241m=\u001b[39m []\n",
      "File \u001b[0;32m~/miniconda3/envs/flex_mult/lib/python3.10/site-packages/IPython/core/interactiveshell.py:324\u001b[0m, in \u001b[0;36m_modified_open\u001b[0;34m(file, *args, **kwargs)\u001b[0m\n\u001b[1;32m    317\u001b[0m \u001b[38;5;28;01mif\u001b[39;00m file \u001b[38;5;129;01min\u001b[39;00m {\u001b[38;5;241m0\u001b[39m, \u001b[38;5;241m1\u001b[39m, \u001b[38;5;241m2\u001b[39m}:\n\u001b[1;32m    318\u001b[0m     \u001b[38;5;28;01mraise\u001b[39;00m \u001b[38;5;167;01mValueError\u001b[39;00m(\n\u001b[1;32m    319\u001b[0m         \u001b[38;5;124mf\u001b[39m\u001b[38;5;124m\"\u001b[39m\u001b[38;5;124mIPython won\u001b[39m\u001b[38;5;124m'\u001b[39m\u001b[38;5;124mt let you open fd=\u001b[39m\u001b[38;5;132;01m{\u001b[39;00mfile\u001b[38;5;132;01m}\u001b[39;00m\u001b[38;5;124m by default \u001b[39m\u001b[38;5;124m\"\u001b[39m\n\u001b[1;32m    320\u001b[0m         \u001b[38;5;124m\"\u001b[39m\u001b[38;5;124mas it is likely to crash IPython. If you know what you are doing, \u001b[39m\u001b[38;5;124m\"\u001b[39m\n\u001b[1;32m    321\u001b[0m         \u001b[38;5;124m\"\u001b[39m\u001b[38;5;124myou can use builtins\u001b[39m\u001b[38;5;124m'\u001b[39m\u001b[38;5;124m open.\u001b[39m\u001b[38;5;124m\"\u001b[39m\n\u001b[1;32m    322\u001b[0m     )\n\u001b[0;32m--> 324\u001b[0m \u001b[38;5;28;01mreturn\u001b[39;00m \u001b[43mio_open\u001b[49m\u001b[43m(\u001b[49m\u001b[43mfile\u001b[49m\u001b[43m,\u001b[49m\u001b[43m \u001b[49m\u001b[38;5;241;43m*\u001b[39;49m\u001b[43margs\u001b[49m\u001b[43m,\u001b[49m\u001b[43m \u001b[49m\u001b[38;5;241;43m*\u001b[39;49m\u001b[38;5;241;43m*\u001b[39;49m\u001b[43mkwargs\u001b[49m\u001b[43m)\u001b[49m\n",
      "\u001b[0;31mFileNotFoundError\u001b[0m: [Errno 2] No such file or directory: '/Users/lauradriscoll/Documents/sherlock/multitask-nets/stepnet/data/all/LeakyGRU/softplus/diag/15_tasks/128_n_rnn/lr6.0l2_w6.0_h6.0_fdgo_reactgo_delaygo_fdanti_reactanti_delayanti_delaydm1_delaydm2_contextdelaydm1_contextdelaydm2_multidelaydm_dmsgo_dmsnogo_dmcgo_dmcnogo/0/log.json'"
     ]
    }
   ],
   "source": [
    "##################################################################\n",
    "#Find right model dir\n",
    "##################################################################\n",
    "import scipy.cluster.hierarchy as sch\n",
    "from scipy.cluster.hierarchy import fcluster\n",
    "method = 'ward'\n",
    "max_d = 3.5\n",
    "sparsity_threshold = .15\n",
    "ex_1 = 1\n",
    "ex_2 = 6\n",
    "ex_3 = 8\n",
    "al = .3\n",
    "seed_set = [str(0),str(1),str(2)]#[str(0),str(1)]\n",
    "\n",
    "rule_trains = ['fdgo', 'reactgo', 'delaygo', 'fdanti', 'reactanti', 'delayanti',\n",
    "          'delaydm1', 'delaydm2', 'contextdelaydm1', 'contextdelaydm2', 'multidelaydm',\n",
    "          'dmsgo', 'dmsnogo', 'dmcgo', 'dmcnogo']\n",
    "\n",
    "rule_trains_str = '_'.join(rule_trains)\n",
    "\n",
    "n_tasks = str(len(rule_trains))\n",
    "n_rnn = 128\n",
    "l2w = -6\n",
    "l2h = -6\n",
    "l1w = 0\n",
    "l1h = 0\n",
    "seed = 1\n",
    "lr = -6\n",
    "sigma_rec = 1/20\n",
    "sigma_x = 2/20\n",
    "pop_rule = 5\n",
    "ruleset = 'all'\n",
    "w_rec_coeff  = 8/10\n",
    "net_name = 'lr'+\"{:.1f}\".format(-lr)+'l2_w'+\"{:.1f}\".format(-l2w)+'_h'+\"{:.1f}\".format(-l2h)+'_'+rule_trains_str\n",
    "\n",
    "# identify master network to compare other networks to. can be chosen randomly\n",
    "rnn_type_master = 'LeakyRNN'\n",
    "activation_master = 'softplus'\n",
    "w_init_master = 'diag'\n",
    "seed_master = str(1)\n",
    "\n",
    "net_name = 'lr'+\"{:.1f}\".format(-lr)+'l2_w'+\"{:.1f}\".format(-l2w)+'_h'+\"{:.1f}\".format(-l2h)\n",
    "net_name2 = '_sig_rec'+str(sigma_rec)+'_sig_x'+str(sigma_x)+'_w_rec_coeff'+\"{:.1f}\".format(w_rec_coeff)+'_'+rule_trains_str\n",
    "\n",
    "m_master = '_'.join((rnn_type_master,activation_master,w_init_master,str(len(rule_trains))+'_tasks',str(n_rnn)+'_n_rnn',net_name+net_name2,str(seed)))\n",
    "\n",
    "lesion_folder = 'lesion_fps_hierarchical_ward_maxclust_opt_clust'\n",
    "save_dir = os.path.join(m_master,lesion_folder)\n",
    "cluster_var = np.load(os.path.join(data_m,save_dir,'ref_cluster_var.npz'))\n",
    "feature_names_master = cluster_var['tick_names']\n",
    "\n",
    "# set of networks to compare\n",
    "rnn_type_set = ['LeakyGRU','LeakyRNN']\n",
    "activation_set = ['softplus','retanh','tanh']\n",
    "w_init_set = ['diag','randgauss']\n",
    "data_folder_set = ['all',]\n",
    "n_rnn_set = [128,256,512,1024]\n",
    "color_set = {}\n",
    "color_set['final1'] = 'k'\n",
    "color_set['untrained'] = 'dodgerblue'\n",
    "color_set['no_noise'] = 'orangered'\n",
    "l2w = -6\n",
    "l2h = -6\n",
    "\n",
    "task_cluster_number = np.empty((len(rnn_type_set),len(activation_set),len(w_init_set),\n",
    "                                len(n_rnn_set),len(data_folder_set),len(seed_set)),dtype=float)\n",
    "\n",
    "unit_cluster_number = np.empty((len(rnn_type_set),len(activation_set),len(w_init_set),\n",
    "                                len(n_rnn_set),len(data_folder_set),len(seed_set)),dtype=float)\n",
    "\n",
    "for activation_i in range(len(activation_set)):\n",
    "    for rnn_type_i in range(len(rnn_type_set)):\n",
    "        for w_init_i in range(len(w_init_set)):\n",
    "            for data_folder_i in range(len(data_folder_set)):\n",
    "                for n_rnn_i in range(len(n_rnn_set)):\n",
    "            \n",
    "                    activation = activation_set[activation_i]\n",
    "                    rnn_type = rnn_type_set[rnn_type_i]\n",
    "                    w_init = w_init_set[w_init_i]\n",
    "                    data_folder = data_folder_set[data_folder_i]\n",
    "                    n_rnn = n_rnn_set[n_rnn_i]\n",
    "\n",
    "                    for seed in seed_set:\n",
    "                        \n",
    "                        m_hp = find_nets(rnn_type,activation,w_init,data_folder,n_rnn,seed)\n",
    "                        m = m_hp[:-7]\n",
    "                                     \n",
    "                        #load atlas data\n",
    "                        save_dir = os.path.join(m,lesion_folder)\n",
    "                        \n",
    "                        with open(os.path.join(m,'log.json'), 'r') as f:\n",
    "                            log_post = json.load(f)\n",
    "                        \n",
    "                        \n",
    "                        perfs = []\n",
    "                        for rule in rule_trains:\n",
    "                            perfs.append(np.max(log_post['perf_'+rule]))\n",
    "\n",
    "                        print(os.path.join(save_dir,'cluster_var.npz'))\n",
    "                        if np.min(perfs)>.80:\n",
    "                            if os.path.isfile(os.path.join(save_dir,'cluster_var.npz')):\n",
    "                                \n",
    "                                cluster_var = np.load(os.path.join(save_dir,'cluster_var.npz'))\n",
    "                                D = cluster_var['D'].T\n",
    "                                feature_names_original = [cluster_var['tick_names'][s] for s in \n",
    "                                                          range(len(cluster_var['tick_names']))]\n",
    "\n",
    "                                feat_order = [feature_names_original.index(s) for i,s in enumerate(feature_names_master)]\n",
    "                                X = D[:,feat_order]\n",
    "                                Y = sch.linkage(X.T, method=method)\n",
    "                                thresh = find_opt_clust_num(X.T,Y)\n",
    "                                clusters_top = fcluster(Y, thresh, criterion='maxclust')\n",
    "\n",
    "                                unit_cluster_number[rnn_type_i,activation_i,w_init_i,n_rnn_i,data_folder_i,int(seed)] = max(cluster_var['clusters'])\n",
    "                                task_cluster_number[rnn_type_i,activation_i,w_init_i,n_rnn_i,data_folder_i,int(seed)] = max(clusters_top)\n",
    "                            else:\n",
    "                                print('NEED TO FIND CLUSTERS ' + os.path.join(rnn_type,activation,w_init,str(n_rnn),str(seed)))\n",
    "                        else:\n",
    "                            print ('low perf: '+os.path.join(rnn_type,activation,w_init,str(n_rnn),str(seed)))\n",
    "                            \n",
    "                            unit_cluster_number[rnn_type_i,activation_i,w_init_i,n_rnn_i,data_folder_i,int(seed)] = 0\n",
    "                            task_cluster_number[rnn_type_i,activation_i,w_init_i,n_rnn_i,data_folder_i,int(seed)] = 0\n",
    "                            "
   ]
  },
  {
   "cell_type": "code",
   "execution_count": 58,
   "metadata": {},
   "outputs": [],
   "source": [
    "max_clust_unit = max(unit_cluster_number.flatten())\n",
    "max_clust_task_period = max(task_cluster_number.flatten())"
   ]
  },
  {
   "cell_type": "code",
   "execution_count": 7,
   "metadata": {},
   "outputs": [
    {
     "name": "stderr",
     "output_type": "stream",
     "text": [
      "/usr/local/Caskroom/miniconda/base/envs/tensorflow/lib/python2.7/site-packages/ipykernel_launcher.py:5: FutureWarning: Using a non-tuple sequence for multidimensional indexing is deprecated; use `arr[tuple(seq)]` instead of `arr[seq]`. In the future this will be interpreted as an array index, `arr[np.array(seq)]`, which will result either in an error or a different result.\n",
      "  \"\"\"\n"
     ]
    },
    {
     "data": {
      "image/png": "[encoded data removed]",
      "text/plain": [
       "<Figure size 216x108 with 1 Axes>"
      ]
     },
     "metadata": {
      "needs_background": "light"
     },
     "output_type": "display_data"
    }
   ],
   "source": [
    "fig = plt.figure(figsize=(3,1.5))         \n",
    "    \n",
    "ax = plt.subplot(111)\n",
    "good_perf = [unit_cluster_number.flatten()>0]\n",
    "plt.hist(unit_cluster_number.flatten()[good_perf],alpha = .3, bins = 12, range = [0,max_clust_unit],color = 'k')\n",
    "plt.text(0,.5*ax.get_ylim()[1],'unit clusters')\n",
    "\n",
    "ax.set_yticks([])\n",
    "ax.spines['top'].set_visible(False)\n",
    "ax.spines['right'].set_visible(False)\n",
    "ax.spines['left'].set_visible(False)\n",
    "ax.set_xlim([0,max_clust_unit])\n",
    "# ax.tick_params(axis='x',label1On=False)\n",
    "\n",
    "# ax = plt.subplot(2,1,2)\n",
    "# plt.hist(task_cluster_number.flatten(),alpha = .3, bins = 12, range = [0,max_clust_unit],color = 'k')\n",
    "# plt.text(0,.5*ax.get_ylim()[1],'task period clusters')\n",
    "\n",
    "ax.set_yticks([])\n",
    "ax.spines['top'].set_visible(False)\n",
    "ax.spines['right'].set_visible(False)\n",
    "ax.spines['left'].set_visible(False)\n",
    "ax.set_xlim([0,max_clust_unit])\n",
    "ax.set_xlabel('Number of clusters')\n",
    "\n",
    "plt.savefig(os.path.join(figpath,'total.pdf'),bbox_inches='tight')\n"
   ]
  },
  {
   "cell_type": "code",
   "execution_count": 8,
   "metadata": {},
   "outputs": [
    {
     "name": "stderr",
     "output_type": "stream",
     "text": [
      "/usr/local/Caskroom/miniconda/base/envs/tensorflow/lib/python2.7/site-packages/ipykernel_launcher.py:8: FutureWarning: Using a non-tuple sequence for multidimensional indexing is deprecated; use `arr[tuple(seq)]` instead of `arr[seq]`. In the future this will be interpreted as an array index, `arr[np.array(seq)]`, which will result either in an error or a different result.\n",
      "  \n"
     ]
    },
    {
     "data": {
      "image/png": "[encoded data removed]",
      "text/plain": [
       "<Figure size 216x216 with 3 Axes>"
      ]
     },
     "metadata": {},
     "output_type": "display_data"
    }
   ],
   "source": [
    "cmap = plt.get_cmap('viridis')\n",
    "num_var = len(activation_set)\n",
    "fig = plt.figure(figsize=(3,3))         \n",
    "    \n",
    "for act_fxn in range(num_var):\n",
    "    ax = plt.subplot(num_var,1,act_fxn+1)\n",
    "    good_perf = [unit_cluster_number[:,act_fxn,:,:,:,:].flatten()>0]\n",
    "    plt.hist(unit_cluster_number[:,act_fxn,:,:,:,:].flatten()[good_perf],alpha = .9, bins = 12, \n",
    "             range = [0,max_clust_unit],color = cmap((act_fxn)/(num_var-1)))\n",
    "    \n",
    "    activation = activation_set[act_fxn]\n",
    "    plt.text(0,.5*ax.get_ylim()[1],activation)\n",
    "    \n",
    "    ax.set_yticks([])\n",
    "    \n",
    "    ax.spines['top'].set_visible(False)\n",
    "    ax.spines['right'].set_visible(False)\n",
    "    ax.spines['left'].set_visible(False)\n",
    "    ax.set_xlim([0,max_clust_unit])\n",
    "    \n",
    "#     if act_fxn<num_var-1:\n",
    "    ax.tick_params(axis='x',label1On=False)\n",
    "#     else:\n",
    "#         ax.set_xlabel('Number of clusters')\n",
    "       \n",
    "    if act_fxn==0:\n",
    "        plt.title('Activation Function')\n",
    "        \n",
    "plt.savefig(os.path.join(figpath,'act_fxn.pdf'),bbox_inches='tight')"
   ]
  },
  {
   "cell_type": "code",
   "execution_count": 9,
   "metadata": {},
   "outputs": [
    {
     "data": {
      "image/png": "[encoded data removed]",
      "text/plain": [
       "<Figure size 216x216 with 2 Axes>"
      ]
     },
     "metadata": {},
     "output_type": "display_data"
    }
   ],
   "source": [
    "num_var = len(rnn_type_set)\n",
    "fig = plt.figure(figsize=(3,3))   \n",
    "                \n",
    "    \n",
    "for rnn_type in range(num_var):\n",
    "    ax = plt.subplot(num_var,1,rnn_type+1)\n",
    "    good_perf = unit_cluster_number[rnn_type,:,:,:,:,:].flatten()>0\n",
    "    plt.hist(unit_cluster_number[rnn_type,:,:,:,:,:].flatten()[good_perf],alpha = .9, bins = 12, \n",
    "             range = [0,max_clust_unit],color = cmap((rnn_type)/(num_var-1)))\n",
    "    \n",
    "    rnn_type_name = rnn_type_set[rnn_type]\n",
    "    plt.text(0,.5*ax.get_ylim()[1],rnn_type_name)\n",
    "    \n",
    "    ax.set_yticks([])\n",
    "    \n",
    "    ax.spines['top'].set_visible(False)\n",
    "    ax.spines['right'].set_visible(False)\n",
    "    ax.spines['left'].set_visible(False)\n",
    "    ax.set_xlim([0,max_clust_unit])\n",
    "    \n",
    "#     if rnn_type<num_var-1:\n",
    "    ax.tick_params(axis='x',label1On=False)\n",
    "# #     else:\n",
    "#         ax.set_xlabel('Number of clusters')\n",
    "       \n",
    "    if rnn_type==0:\n",
    "        plt.title('Network type')\n",
    "plt.savefig(os.path.join(figpath,'type.pdf'),bbox_inches='tight')"
   ]
  },
  {
   "cell_type": "code",
   "execution_count": 10,
   "metadata": {},
   "outputs": [
    {
     "data": {
      "image/png": "[encoded data removed]",
      "text/plain": [
       "<Figure size 216x216 with 2 Axes>"
      ]
     },
     "metadata": {
      "needs_background": "light"
     },
     "output_type": "display_data"
    }
   ],
   "source": [
    "num_var = len(w_init_set)\n",
    "fig = plt.figure(figsize=(3,3))   \n",
    "                \n",
    "    \n",
    "for init_type in range(num_var):\n",
    "    ax = plt.subplot(num_var,1,init_type+1)\n",
    "    good_perf = unit_cluster_number[:,:,init_type,:,:,:].flatten()>0\n",
    "    plt.hist(unit_cluster_number[:,:,init_type,:,:,:].flatten()[good_perf],alpha = .9, bins = 12, \n",
    "             range = [0,max_clust_unit],color = cmap((init_type)/(num_var-1)))\n",
    "    \n",
    "    init_name = w_init_set[init_type]\n",
    "    plt.text(0,.5*ax.get_ylim()[1],init_name)\n",
    "    \n",
    "    ax.set_yticks([])\n",
    "    \n",
    "    ax.spines['top'].set_visible(False)\n",
    "    ax.spines['right'].set_visible(False)\n",
    "    ax.spines['left'].set_visible(False)\n",
    "    ax.set_xlim([0,max_clust_unit])\n",
    "    \n",
    "    if init_type<num_var-1:\n",
    "        ax.tick_params(axis='x',label1On=False)\n",
    "    else:\n",
    "        ax.set_xlabel('Number of clusters')\n",
    "       \n",
    "    if init_type==0:\n",
    "        plt.title('Initialization')\n",
    "plt.savefig(os.path.join(figpath,'Initialization.pdf'),bbox_inches='tight')"
   ]
  },
  {
   "cell_type": "code",
   "execution_count": 11,
   "metadata": {},
   "outputs": [
    {
     "data": {
      "image/png": "[encoded data removed]",
      "text/plain": [
       "<Figure size 216x216 with 4 Axes>"
      ]
     },
     "metadata": {
      "needs_background": "light"
     },
     "output_type": "display_data"
    }
   ],
   "source": [
    "num_var = len(n_rnn_set)\n",
    "fig = plt.figure(figsize=(3,3))   \n",
    "                \n",
    "    \n",
    "for n_rnn_i in range(num_var):\n",
    "    ax = plt.subplot(num_var,1,n_rnn_i+1)\n",
    "    good_perf = unit_cluster_number[:,:,:,n_rnn_i,:,:].flatten()>0\n",
    "    plt.hist(unit_cluster_number[:,:,:,n_rnn_i,:,:].flatten()[good_perf],alpha = .9, bins = 12, \n",
    "             range = [0,max_clust_unit],color = cmap((n_rnn_i)/(num_var-1)))\n",
    "    \n",
    "    init_name = n_rnn_set[n_rnn_i]\n",
    "    plt.text(0,.75*ax.get_ylim()[1],str(init_name))\n",
    "    \n",
    "    ax.set_yticks([])\n",
    "    \n",
    "    ax.spines['top'].set_visible(False)\n",
    "    ax.spines['right'].set_visible(False)\n",
    "    ax.spines['left'].set_visible(False)\n",
    "    ax.set_xlim([0,max_clust_unit])\n",
    "    \n",
    "    if n_rnn_i<num_var-1:\n",
    "        ax.tick_params(axis='x',label1On=False)\n",
    "    else:\n",
    "        ax.set_xlabel('Number of clusters')\n",
    "       \n",
    "    if n_rnn_i==0:\n",
    "        plt.title('N units')\n",
    "        \n",
    "plt.savefig(os.path.join(figpath,'N_units.pdf'),bbox_inches='tight')"
   ]
  },
  {
   "cell_type": "code",
   "execution_count": 12,
   "metadata": {},
   "outputs": [
    {
     "data": {
      "image/png": "[encoded data removed]",
      "text/plain": [
       "<Figure size 432x360 with 2 Axes>"
      ]
     },
     "metadata": {
      "needs_background": "light"
     },
     "output_type": "display_data"
    }
   ],
   "source": [
    "x = unit_cluster_number\n",
    "good_perf = x.flatten()[x.flatten()>0]\n",
    "n_networks = len(good_perf)\n",
    "\n",
    "fig = plt.figure(figsize=(6,5)) \n",
    "ax = plt.subplot(2,1,1)\n",
    "plt.plot(good_perf[np.argsort(-good_perf)])\n",
    "ax.set_ylabel('No. of clusters')\n",
    "\n",
    "ax.spines['top'].set_visible(False)\n",
    "ax.spines['right'].set_visible(False)\n",
    "ax.set_ylim([0,max_clust_unit+1])\n",
    "ax.set_xlim([-.5,n_networks])\n",
    "\n",
    "ax = plt.subplot(2,1,2)\n",
    "AA,BB,CC,DD,EE,FF = np.meshgrid(np.arange(x.shape[1]),np.arange(x.shape[0]),np.arange(x.shape[2]),np.arange(x.shape[3]),np.arange(x.shape[4]),np.arange(x.shape[5]))\n",
    "table = np.vstack((x.ravel()/10,AA.ravel(),BB.ravel(),CC.ravel(),DD.ravel())).T\n",
    "\n",
    "table_sort = table[np.argsort(-x.flatten()),1:]\n",
    "max_vals = np.max(table_sort,axis = 0)\n",
    "max_table = np.tile(max_vals,(len(table_sort),1))\n",
    "table_norm = table_sort/max_table\n",
    "\n",
    "plt.imshow(table_norm.T, aspect = 'auto')\n",
    "\n",
    "ax.set_yticks((0,1,2,3))\n",
    "ax.set_yticklabels(['Activation fxn','Network type','Initialization','N RNN'])\n",
    "ax.set_xlim([-.5,n_networks-.5])\n",
    "ax.set_xlabel('Networks')\n",
    "\n",
    "rnn_type_i,activation_i,w_init_i,int(seed)\n",
    "plt.savefig(os.path.join(figpath,'summary.pdf'),bbox_inches='tight')"
   ]
  },
  {
   "cell_type": "code",
   "execution_count": null,
   "metadata": {},
   "outputs": [],
   "source": []
  }
 ],
 "metadata": {
  "kernelspec": {
   "display_name": "Python 3 (ipykernel)",
   "language": "python",
   "name": "python3"
  },
  "language_info": {
   "codemirror_mode": {
    "name": "ipython",
    "version": 3
   },
   "file_extension": ".py",
   "mimetype": "text/x-python",
   "name": "python",
   "nbconvert_exporter": "python",
   "pygments_lexer": "ipython3",
   "version": "3.10.13"
  }
 },
 "nbformat": 4,
 "nbformat_minor": 4
}
